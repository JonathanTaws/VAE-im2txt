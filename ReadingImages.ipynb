{
 "cells": [
  {
   "cell_type": "code",
   "execution_count": 3,
   "metadata": {
    "collapsed": false
   },
   "outputs": [
    {
     "name": "stdout",
     "output_type": "stream",
     "text": [
      "loading annotations into memory...\n",
      "Done (t=18.18s)\n",
      "creating index...\n",
      "index created!\n"
     ]
    }
   ],
   "source": [
    "import os, urllib\n",
    "from collections import defaultdict\n",
    "import pickle\n",
    "\n",
    "from pycocotools.coco import COCO\n",
    "\n",
    "MSCOCO_URL = 'http://mscoco.org/images/'\n",
    "\n",
    "dataDir = './coco'\n",
    "dataType = 'val2014'\n",
    "# Load instances to get categories information\n",
    "ann_file = '%s/annotations/instances_%s.json' % (dataDir, dataType)\n",
    "\n",
    "def init_COCO():\n",
    "    # initialize COCO api for captioning\n",
    "    return COCO(ann_file)\n",
    "\n",
    "coco = init_COCO()"
   ]
  },
  {
   "cell_type": "code",
   "execution_count": 8,
   "metadata": {
    "collapsed": false
   },
   "outputs": [
    {
     "name": "stdout",
     "output_type": "stream",
     "text": [
      "[70] toilet\n",
      "image number: 20 of 20\n",
      "[1] person\n",
      "image number: 20 of 20\n",
      "[35] skis\n",
      "image number: 20 of 20\n",
      "[22] elephant\n",
      "image number: 20 of 20\n"
     ]
    }
   ],
   "source": [
    "# Define 4 labels we'll work with\n",
    "'''\n",
    "[70] toilet\n",
    "[1] person\n",
    "[35] skis\n",
    "[22] elephant\n",
    "'''\n",
    "labelsIdx = {'[22]': 0, '[1]': 1, '[35]': 2, '[70]': 3}\n",
    "labels = [\"toilet\", \"person\", \"skis\", \"elephant\"]\n",
    "\n",
    "# Number of images to download per label\n",
    "NB_IMG = 20\n",
    "\n",
    "def get_images_filenames(coco):\n",
    "    imagesLabelDict = defaultdict(str)\n",
    "\n",
    "    for label in labels:\n",
    "        \n",
    "        cat_ids = coco.getCatIds(catNms=label)\n",
    "        img_ids = coco.getImgIds(catIds=cat_ids)\n",
    "        crop_img_list = coco.loadImgs(img_ids[:NB_IMG])\n",
    "        print cat_ids, label\n",
    "\n",
    "        directory = dataDir + '/images/' + label + '/'\n",
    "        if not os.path.exists(directory):\n",
    "            os.makedirs(directory)\n",
    "        \n",
    "        counter = 1\n",
    "        for img in crop_img_list:\n",
    "            if counter % 20 == 0:\n",
    "                \n",
    "                print \"image number:\", counter, \"of\", NB_IMG\n",
    "            counter += 1\n",
    "            filename = '%s/%s/%s'%(dataDir,dataType,img['file_name'])\n",
    "            idx = labelsIdx[str(cat_ids)]\n",
    "            \n",
    "            if filename not in imagesLabelDict:\n",
    "                imagesLabelDict[filename] = [0,0,0,0]\n",
    "                imagesLabelDict[filename][idx] = 1\n",
    "            else:\n",
    "                imagesLabelDict[filename][idx] = 1\n",
    "                \n",
    "            if os.path.exists(filename):\n",
    "                continue\n",
    "            print 'dont exist'\n",
    "            #urllib.urlretrieve(MSCOCO_URL + '/%d' % img['id'], filename)\n",
    "    \n",
    "    return imagesLabelDict\n",
    "if __name__ == \"__main__\":\n",
    "    imgDict = get_images_filenames(coco)\n",
    "    pickle.dump( imgDict, open( \"ImgDictAnno100SamplesValidation.p\", \"wb\" ) )"
   ]
  },
  {
   "cell_type": "code",
   "execution_count": 38,
   "metadata": {
    "collapsed": false
   },
   "outputs": [
    {
     "name": "stdout",
     "output_type": "stream",
     "text": [
      "./coco/val2014/COCO_val2014_000000032947.jpg [0, 1, 0, 1]\n",
      "./coco/val2014/COCO_val2014_000000098590.jpg [0, 1, 1, 0]\n",
      "./coco/val2014/COCO_val2014_000000098322.jpg [0, 1, 1, 0]\n",
      "./coco/val2014/COCO_val2014_000000360716.jpg [0, 1, 1, 0]\n",
      "./coco/val2014/COCO_val2014_000000295092.jpg [0, 1, 1, 0]\n",
      "./coco/val2014/COCO_val2014_000000032817.jpg [0, 1, 0, 1]\n",
      "./coco/val2014/COCO_val2014_000000426259.jpg [0, 1, 1, 0]\n"
     ]
    }
   ],
   "source": [
    "for key in imgDict:\n",
    "    if sum(imgDict[key]) > 1:\n",
    "        print key, imgDict[key]"
   ]
  },
  {
   "cell_type": "code",
   "execution_count": 6,
   "metadata": {
    "collapsed": false
   },
   "outputs": [
    {
     "data": {
      "text/plain": [
       "'./coco'"
      ]
     },
     "execution_count": 6,
     "metadata": {},
     "output_type": "execute_result"
    }
   ],
   "source": [
    "dataDir"
   ]
  },
  {
   "cell_type": "code",
   "execution_count": null,
   "metadata": {
    "collapsed": true
   },
   "outputs": [],
   "source": []
  }
 ],
 "metadata": {
  "anaconda-cloud": {},
  "kernelspec": {
   "display_name": "Python [default]",
   "language": "python",
   "name": "python2"
  },
  "language_info": {
   "codemirror_mode": {
    "name": "ipython",
    "version": 2
   },
   "file_extension": ".py",
   "mimetype": "text/x-python",
   "name": "python",
   "nbconvert_exporter": "python",
   "pygments_lexer": "ipython2",
   "version": "2.7.12"
  }
 },
 "nbformat": 4,
 "nbformat_minor": 1
}
