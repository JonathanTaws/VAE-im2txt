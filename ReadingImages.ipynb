{
 "cells": [
  {
   "cell_type": "code",
   "execution_count": 4,
   "metadata": {
    "collapsed": false
   },
   "outputs": [
    {
     "name": "stdout",
     "output_type": "stream",
     "text": [
      "loading annotations into memory...\n",
      "Done (t=9.75s)\n",
      "creating index...\n",
      "index created!\n"
     ]
    }
   ],
   "source": [
    "import os, urllib\n",
    "from collections import defaultdict\n",
    "import pickle\n",
    "\n",
    "from pycocotools.coco import COCO\n",
    "\n",
    "MSCOCO_URL = 'http://mscoco.org/images/'\n",
    "\n",
    "dataDir = './coco'\n",
    "dataType = 'val2014'\n",
    "# Load instances to get categories information\n",
    "ann_file = '%s/annotations/instances_%s.json' % (dataDir, dataType)\n",
    "\n",
    "def init_COCO():\n",
    "    # initialize COCO api for captioning\n",
    "    return COCO(ann_file)\n",
    "\n",
    "coco = init_COCO()"
   ]
  },
  {
   "cell_type": "code",
   "execution_count": 5,
   "metadata": {
    "collapsed": false
   },
   "outputs": [
    {
     "name": "stdout",
     "output_type": "stream",
     "text": [
      "[70] toilet\n",
      "image number: 100 of 500\n",
      "image number: 200 of 500\n",
      "image number: 300 of 500\n",
      "image number: 400 of 500\n",
      "image number: 500 of 500\n",
      "[1] person\n",
      "image number: 100 of 500\n",
      "image number: 200 of 500\n",
      "image number: 300 of 500\n",
      "image number: 400 of 500\n",
      "image number: 500 of 500\n",
      "[35] skis\n",
      "image number: 100 of 500\n",
      "image number: 200 of 500\n",
      "image number: 300 of 500\n",
      "image number: 400 of 500\n",
      "image number: 500 of 500\n",
      "[22] elephant\n",
      "image number: 100 of 500\n",
      "image number: 200 of 500\n",
      "image number: 300 of 500\n",
      "image number: 400 of 500\n",
      "image number: 500 of 500\n"
     ]
    }
   ],
   "source": [
    "# Define 4 labels we'll work with\n",
    "'''\n",
    "[70] toilet\n",
    "[1] person\n",
    "[35] skis\n",
    "[22] elephant\n",
    "'''\n",
    "labelsIdx = {'[22]': 0, '[1]': 1, '[35]': 2, '[70]': 3}\n",
    "labels = [\"toilet\", \"person\", \"skis\", \"elephant\"]\n",
    "\n",
    "# Number of images to download per label\n",
    "NB_IMG = 500\n",
    "\n",
    "def get_images_filenames(coco):\n",
    "    imagesLabelDict = defaultdict(str)\n",
    "\n",
    "    for label in labels:\n",
    "        \n",
    "        cat_ids = coco.getCatIds(catNms=label)\n",
    "        img_ids = coco.getImgIds(catIds=cat_ids)\n",
    "        crop_img_list = coco.loadImgs(img_ids[:NB_IMG])\n",
    "        print cat_ids, label\n",
    "\n",
    "        directory = dataDir + '/images/' + label + '/'\n",
    "        if not os.path.exists(directory):\n",
    "            os.makedirs(directory)\n",
    "        \n",
    "        counter = 1\n",
    "        for img in crop_img_list:\n",
    "            if counter % 100 == 0:\n",
    "                \n",
    "                print \"image number:\", counter, \"of\", NB_IMG\n",
    "            counter += 1\n",
    "            filename = '%s/%s/%s'%(dataDir,dataType,img['file_name'])\n",
    "            idx = labelsIdx[str(cat_ids)]\n",
    "            \n",
    "            if filename not in imagesLabelDict:\n",
    "                imagesLabelDict[filename] = [0,0,0,0]\n",
    "                imagesLabelDict[filename][idx] = 1\n",
    "            else:\n",
    "                imagesLabelDict[filename][idx] = 1\n",
    "                \n",
    "            if os.path.exists(filename):\n",
    "                continue\n",
    "            print 'dont exist'\n",
    "            #urllib.urlretrieve(MSCOCO_URL + '/%d' % img['id'], filename)\n",
    "    \n",
    "    return imagesLabelDict\n",
    "if __name__ == \"__main__\":\n",
    "    imgDict = get_images_filenames(coco)\n",
    "    pickle.dump( imgDict, open( \"ImgDictAnno1000SamplesValidation.p\", \"wb\" ) )"
   ]
  },
  {
   "cell_type": "code",
   "execution_count": 3,
   "metadata": {
    "collapsed": false
   },
   "outputs": [
    {
     "name": "stdout",
     "output_type": "stream",
     "text": [
      "./coco/train2014/COCO_train2014_000000419001.jpg [1, 1, 0, 0]\n",
      "./coco/train2014/COCO_train2014_000000262273.jpg [0, 1, 1, 0]\n",
      "./coco/train2014/COCO_train2014_000000394190.jpg [0, 1, 1, 0]\n",
      "./coco/train2014/COCO_train2014_000000394518.jpg [0, 1, 1, 0]\n",
      "./coco/train2014/COCO_train2014_000000131486.jpg [0, 1, 1, 0]\n",
      "./coco/train2014/COCO_train2014_000000458807.jpg [0, 1, 0, 1]\n",
      "./coco/train2014/COCO_train2014_000000000382.jpg [0, 1, 1, 0]\n",
      "./coco/train2014/COCO_train2014_000000262917.jpg [0, 1, 1, 0]\n",
      "./coco/train2014/COCO_train2014_000000262786.jpg [0, 1, 0, 1]\n",
      "./coco/train2014/COCO_train2014_000000133110.jpg [0, 1, 1, 0]\n",
      "./coco/train2014/COCO_train2014_000000131299.jpg [0, 1, 1, 0]\n",
      "./coco/train2014/COCO_train2014_000000263042.jpg [1, 1, 0, 0]\n",
      "./coco/train2014/COCO_train2014_000000133369.jpg [0, 1, 1, 0]\n",
      "./coco/train2014/COCO_train2014_000000002369.jpg [0, 1, 1, 0]\n",
      "./coco/train2014/COCO_train2014_000000524651.jpg [0, 1, 1, 0]\n",
      "./coco/train2014/COCO_train2014_000000394874.jpg [1, 1, 0, 0]\n",
      "./coco/train2014/COCO_train2014_000000394790.jpg [0, 1, 1, 0]\n",
      "./coco/train2014/COCO_train2014_000000001670.jpg [0, 1, 1, 0]\n",
      "./coco/train2014/COCO_train2014_000000394058.jpg [0, 1, 1, 0]\n",
      "./coco/train2014/COCO_train2014_000000394590.jpg [0, 1, 1, 0]\n",
      "./coco/train2014/COCO_train2014_000000327820.jpg [0, 1, 1, 0]\n",
      "./coco/train2014/COCO_train2014_000000000934.jpg [1, 1, 0, 0]\n",
      "./coco/train2014/COCO_train2014_000000525360.jpg [0, 1, 1, 0]\n",
      "./coco/train2014/COCO_train2014_000000000965.jpg [0, 1, 1, 0]\n",
      "./coco/train2014/COCO_train2014_000000526729.jpg [0, 1, 1, 0]\n",
      "./coco/train2014/COCO_train2014_000000526568.jpg [0, 1, 1, 0]\n",
      "./coco/train2014/COCO_train2014_000000262146.jpg [0, 1, 1, 0]\n",
      "./coco/train2014/COCO_train2014_000000328101.jpg [1, 1, 0, 0]\n",
      "./coco/train2014/COCO_train2014_000000262935.jpg [0, 1, 1, 0]\n",
      "./coco/train2014/COCO_train2014_000000394325.jpg [1, 1, 0, 0]\n",
      "./coco/train2014/COCO_train2014_000000262705.jpg [0, 1, 1, 0]\n",
      "./coco/train2014/COCO_train2014_000000262688.jpg [0, 1, 1, 0]\n",
      "./coco/train2014/COCO_train2014_000000263418.jpg [0, 1, 1, 0]\n",
      "./coco/train2014/COCO_train2014_000000394942.jpg [0, 1, 0, 1]\n",
      "./coco/train2014/COCO_train2014_000000526856.jpg [0, 1, 1, 0]\n",
      "./coco/train2014/COCO_train2014_000000132669.jpg [0, 1, 0, 1]\n",
      "./coco/train2014/COCO_train2014_000000262465.jpg [0, 1, 1, 0]\n",
      "./coco/train2014/COCO_train2014_000000262724.jpg [1, 1, 0, 0]\n",
      "./coco/train2014/COCO_train2014_000000001911.jpg [0, 1, 1, 0]\n",
      "./coco/train2014/COCO_train2014_000000395346.jpg [1, 1, 0, 0]\n",
      "./coco/train2014/COCO_train2014_000000132576.jpg [0, 1, 1, 0]\n",
      "./coco/train2014/COCO_train2014_000000393230.jpg [0, 1, 1, 0]\n",
      "./coco/train2014/COCO_train2014_000000524692.jpg [1, 1, 0, 0]\n",
      "./coco/train2014/COCO_train2014_000000087501.jpg [0, 1, 1, 0]\n",
      "./coco/train2014/COCO_train2014_000000002402.jpg [0, 1, 1, 0]\n",
      "./coco/train2014/COCO_train2014_000000395040.jpg [0, 1, 1, 0]\n",
      "./coco/train2014/COCO_train2014_000000263873.jpg [0, 1, 1, 0]\n",
      "./coco/train2014/COCO_train2014_000000131450.jpg [0, 1, 1, 0]\n",
      "./coco/train2014/COCO_train2014_000000263970.jpg [0, 1, 1, 0]\n",
      "./coco/train2014/COCO_train2014_000000132710.jpg [0, 1, 1, 0]\n",
      "./coco/train2014/COCO_train2014_000000133532.jpg [0, 1, 1, 0]\n",
      "./coco/train2014/COCO_train2014_000000526542.jpg [0, 1, 1, 0]\n",
      "./coco/train2014/COCO_train2014_000000395142.jpg [0, 1, 0, 1]\n",
      "./coco/train2014/COCO_train2014_000000524623.jpg [0, 1, 1, 0]\n",
      "./coco/train2014/COCO_train2014_000000000061.jpg [1, 1, 0, 0]\n"
     ]
    }
   ],
   "source": [
    "for key in imgDict:\n",
    "    if sum(imgDict[key]) > 1:\n",
    "        print key, imgDict[key]"
   ]
  },
  {
   "cell_type": "code",
   "execution_count": 6,
   "metadata": {
    "collapsed": false
   },
   "outputs": [
    {
     "data": {
      "text/plain": [
       "'./coco'"
      ]
     },
     "execution_count": 6,
     "metadata": {},
     "output_type": "execute_result"
    }
   ],
   "source": [
    "dataDir"
   ]
  },
  {
   "cell_type": "code",
   "execution_count": null,
   "metadata": {
    "collapsed": true
   },
   "outputs": [],
   "source": []
  }
 ],
 "metadata": {
  "anaconda-cloud": {},
  "kernelspec": {
   "display_name": "Python [default]",
   "language": "python",
   "name": "python2"
  },
  "language_info": {
   "codemirror_mode": {
    "name": "ipython",
    "version": 2
   },
   "file_extension": ".py",
   "mimetype": "text/x-python",
   "name": "python",
   "nbconvert_exporter": "python",
   "pygments_lexer": "ipython2",
   "version": "2.7.12"
  }
 },
 "nbformat": 4,
 "nbformat_minor": 1
}
