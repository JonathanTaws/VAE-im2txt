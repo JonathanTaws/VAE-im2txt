{
 "cells": [
  {
   "cell_type": "code",
   "execution_count": 1,
   "metadata": {
    "collapsed": false
   },
   "outputs": [
    {
     "name": "stderr",
     "output_type": "stream",
     "text": [
      "/home/icarus/anaconda2/lib/python2.7/site-packages/matplotlib/font_manager.py:273: UserWarning: Matplotlib is building the font cache using fc-list. This may take a moment.\n",
      "  warnings.warn('Matplotlib is building the font cache using fc-list. This may take a moment.')\n",
      "Using gpu device 0: Tesla K80 (CNMeM is enabled with initial size: 95.0% of memory, cuDNN 5105)\n"
     ]
    }
   ],
   "source": [
    "# Some enhancements :\n",
    "# - Increase number of \n",
    "\n",
    "from IPython.display import Image, display, clear_output\n",
    "%matplotlib nbagg\n",
    "%matplotlib inline \n",
    "\n",
    "import pickle\n",
    "import lasagne\n",
    "import matplotlib.pyplot as plt\n",
    "import numpy as np\n",
    "import theano.tensor as T\n",
    "from lasagne.layers import DenseLayer, DropoutLayer, NonlinearityLayer, InputLayer\n",
    "from lasagne.layers import Pool2DLayer as PoolLayer\n",
    "#from lasagne.layers.dnn import Conv2DDNNLayer as ConvLayer\n",
    "from lasagne.layers import Conv2DLayer as ConvLayer\n",
    "from lasagne.nonlinearities import softmax, leaky_rectify\n",
    "from lasagne.layers import get_output, get_all_params\n",
    "import theano\n",
    "\n",
    "from samplelayer import SimpleSampleLayer\n",
    "\n",
    "#theano.config.optimizer = 'None'\n",
    "theano.config.exception_verbosity='high'\n",
    "# theano.config.compute_test_value = 'warn' "
   ]
  },
  {
   "cell_type": "code",
   "execution_count": 2,
   "metadata": {
    "collapsed": true
   },
   "outputs": [],
   "source": [
    "TRAIN_FILE = 'x_train_1000Samples.p'\n",
    "VALIDATION_FILE = 'x_train_1000SamplesValidation.p'\n",
    "TARGET_FILE = 'targets_train_1000Samples.p'\n",
    "TARGET_VALIDATION_FILE = 'targets_train_1000SamplesValidation.p'\n",
    "\n",
    "# TRAIN_FILE = 'x_train.p'\n",
    "# VALIDATION_FILE = 'x_train_validation.p'\n",
    "# TARGET_FILE = 'targets_train.p'\n",
    "# TARGET_VALIDATION_FILE = 'targets_train_validation.p'"
   ]
  },
  {
   "cell_type": "code",
   "execution_count": 3,
   "metadata": {
    "collapsed": true
   },
   "outputs": [],
   "source": [
    "def load_data():\n",
    "    with open(TRAIN_FILE, 'r') as f:\n",
    "        x_train = pickle.load(f)\n",
    "    with open(VALIDATION_FILE, 'r') as f:\n",
    "        x_valid = pickle.load(f)\n",
    "    with open(TARGET_FILE, 'r') as f:\n",
    "        targets_train = pickle.load(f)\n",
    "    with open(TARGET_VALIDATION_FILE, 'r') as f:\n",
    "        targets_valid = pickle.load(f)\n",
    "    \n",
    "\n",
    "    x_train = np.asarray(x_train).squeeze(axis=1)\n",
    "    x_valid = np.asarray(x_valid).squeeze(axis=1)\n",
    "    targets_train = np.asarray(targets_train, dtype=np.float32)\n",
    "    targets_valid = np.asarray(targets_valid, dtype=np.float32)\n",
    "    \n",
    "    return x_train, x_valid, targets_train, targets_valid"
   ]
  },
  {
   "cell_type": "code",
   "execution_count": 4,
   "metadata": {
    "collapsed": false
   },
   "outputs": [
    {
     "name": "stdout",
     "output_type": "stream",
     "text": [
      "(3930, 3, 224, 224)\n",
      "(1973, 3, 224, 224)\n",
      "(3930, 4)\n",
      "(1973, 4)\n"
     ]
    }
   ],
   "source": [
    "x_train, x_valid, targets_train, targets_valid = load_data()\n",
    "\n",
    "print x_train.shape\n",
    "print x_valid.shape\n",
    "print targets_train.shape\n",
    "print targets_valid.shape"
   ]
  },
  {
   "cell_type": "code",
   "execution_count": 5,
   "metadata": {
    "collapsed": true
   },
   "outputs": [],
   "source": [
    "NUM_LATENT_Z = 2\n",
    "NUM_CLASSES = 4\n",
    "\n",
    "def create_network():\n",
    "    net = {}\n",
    "\n",
    "    # VGG Net\n",
    "    net['input'] = InputLayer((None, 3, 224, 224))\n",
    "    net['conv1_1'] = ConvLayer(net['input'], 64, 3, pad=1, flip_filters=False)\n",
    "    net['conv1_2'] = ConvLayer(net['conv1_1'], 64, 3, pad=1, flip_filters=False)\n",
    "    net['pool1'] = PoolLayer(net['conv1_2'], 2)\n",
    "    net['conv2_1'] = ConvLayer(net['pool1'], 128, 3, pad=1, flip_filters=False)\n",
    "    net['conv2_2'] = ConvLayer(net['conv2_1'], 128, 3, pad=1, flip_filters=False)\n",
    "    net['pool2'] = PoolLayer(net['conv2_2'], 2)\n",
    "    net['conv3_1'] = ConvLayer(net['pool2'], 256, 3, pad=1, flip_filters=False)\n",
    "    net['conv3_2'] = ConvLayer(net['conv3_1'], 256, 3, pad=1, flip_filters=False)\n",
    "    net['conv3_3'] = ConvLayer(net['conv3_2'], 256, 3, pad=1, flip_filters=False)\n",
    "    net['conv3_4'] = ConvLayer(net['conv3_3'], 256, 3, pad=1, flip_filters=False)\n",
    "    net['pool3'] = PoolLayer(net['conv3_4'], 2)\n",
    "    net['conv4_1'] = ConvLayer(net['pool3'], 512, 3, pad=1, flip_filters=False)\n",
    "    net['conv4_2'] = ConvLayer(net['conv4_1'], 512, 3, pad=1, flip_filters=False)\n",
    "    net['conv4_3'] = ConvLayer(net['conv4_2'], 512, 3, pad=1, flip_filters=False)\n",
    "    net['conv4_4'] = ConvLayer(net['conv4_3'], 512, 3, pad=1, flip_filters=False)\n",
    "    net['pool4'] = PoolLayer(net['conv4_4'], 2)\n",
    "    net['conv5_1'] = ConvLayer(net['pool4'], 512, 3, pad=1, flip_filters=False)\n",
    "    net['conv5_2'] = ConvLayer(net['conv5_1'], 512, 3, pad=1, flip_filters=False)\n",
    "    net['conv5_3'] = ConvLayer(net['conv5_2'], 512, 3, pad=1, flip_filters=False)\n",
    "    net['conv5_4'] = ConvLayer(net['conv5_3'], 512, 3, pad=1, flip_filters=False)\n",
    "    net['pool5'] = PoolLayer(net['conv5_4'], 2)\n",
    "    net['fc6'] = DenseLayer(net['pool5'], num_units=4096)\n",
    "    net['fc6_dropout'] = DropoutLayer(net['fc6'], p=0.5)\n",
    "    net['fc7'] = DenseLayer(net['fc6_dropout'], num_units=4096)\n",
    "    net['fc7_dropout'] = DropoutLayer(net['fc7'], p=0.5)\n",
    "    net['fc8_not_used'] = DenseLayer(net['fc7_dropout'], num_units=1000, nonlinearity=None)\n",
    "    net['prob_not_used'] = NonlinearityLayer(net['fc8_not_used'], softmax)\n",
    "    \n",
    "    set_vgg_params(net)\n",
    "\n",
    "    # VAE\n",
    "    net['enc_vae'] = DenseLayer(net['fc7_dropout'], num_units=1024, nonlinearity=leaky_rectify)\n",
    "    net['muq_vae'] = DenseLayer(net['enc_vae'], num_units=NUM_LATENT_Z, nonlinearity=None)     #mu(x)\n",
    "    net['logvarq_vae'] = DenseLayer(net['enc_vae'], num_units=NUM_LATENT_Z, nonlinearity=lambda x: T.clip(x,-10,10)) #logvar(x)\n",
    "    net['z_vae'] = SimpleSampleLayer(mean=net['muq_vae'], log_var=net['logvarq_vae']) # sample a latent representation z \\sim q(z|x) = N(mu(x),logvar(x))\n",
    "#     net['z_vae'] = net['muq_vae']\n",
    "    net['in_z_vae'] = InputLayer(shape=(None, NUM_LATENT_Z))\n",
    "    #net['dec_vae'] = DenseLayer(net['in_z_vae'], num_units=128, nonlinearity=leaky_rectify)\n",
    "\n",
    "    # Vanilla network\n",
    "    net['fc8'] = DenseLayer(net['in_z_vae'], num_units=1024)\n",
    "    net['fc8_dropout'] = DropoutLayer(net['fc8'], p=0.5)\n",
    "    net['fc9'] = DenseLayer(net['fc8_dropout'], num_units=4, nonlinearity=None)\n",
    "    net['prob'] = NonlinearityLayer(net['fc9'], softmax)\n",
    "\n",
    "    return net\n",
    "\n",
    "def set_vgg_params(net):\n",
    "    model = pickle.load(open('vgg19.pkl'))\n",
    "\n",
    "    # Remove the trainable argument from the layers that can potentially have it\n",
    "    for key, val in net.iteritems():\n",
    "        if not ('dropout' or 'pool' in key):\n",
    "            net[key].params[net[key].W].remove(\"trainable\")\n",
    "            net[key].params[net[key].b].remove(\"trainable\")\n",
    "\n",
    "    lasagne.layers.set_all_param_values(net['prob_not_used'], model['param values'])\n"
   ]
  },
  {
   "cell_type": "code",
   "execution_count": 6,
   "metadata": {
    "collapsed": false
   },
   "outputs": [],
   "source": [
    "class VAEHelper:\n",
    "\n",
    "    @staticmethod\n",
    "    def create_theano_functions(net):\n",
    "        sym_x = T.tensor4('x')\n",
    "#         sym_x.tag.test_value = np.zeros((10,3,224,224), dtype = np.float32)\n",
    "        sym_z = T.matrix('z')\n",
    "#         sym_z.tag.test_value = np.zeros((10,2), dtype = np.float32)\n",
    "        sym_y = T.matrix('y')\n",
    "#         sym_y.tag.test_value = np.zeros((10,4), dtype = np.float32)\n",
    "        \n",
    "        z_train, muq_train, logvarq_train = get_output([net['z_vae'], net['muq_vae'], net['logvarq_vae']],\n",
    "                                                       {net['input']: sym_x}, deterministic=False)\n",
    "        prob_train = get_output(net['prob'], {net['in_z_vae']: z_train}, deterministic=False)\n",
    "\n",
    "        z_eval, muq_eval, logvarq_eval = get_output([net['z_vae'], net['muq_vae'], net['logvarq_vae']],\n",
    "                                                    {net['input']: sym_x}, deterministic=True)\n",
    "        prob_eval = get_output(net['prob'], {net['in_z_vae']: z_eval}, deterministic=True)\n",
    "\n",
    "        prob_sample = get_output(net['prob'], {net['in_z_vae']: sym_z}, deterministic=True)\n",
    "\n",
    "        LL_train, logpx_train, KL_train = VAEHelper.LogLikelihood(prob_train, sym_y, muq_train, logvarq_train)\n",
    "        LL_eval, logpx_eval, KL_eval = VAEHelper.LogLikelihood(prob_eval, sym_y, muq_eval, logvarq_eval)\n",
    "\n",
    "        all_params = get_all_params([net['z_vae'],net['prob']],trainable=True)\n",
    "\n",
    "        # Let Theano do its magic and get all the gradients we need for training\n",
    "        all_grads = T.grad(-LL_train, all_params)\n",
    "\n",
    "        # Set the update function for parameters. The Adam optimizer works really well with VAEs.\n",
    "        updates = lasagne.updates.adam(all_grads, all_params, learning_rate=1e-3)\n",
    "#         updates = lasagne.updates.nesterov_momentum(all_grads, all_params, learning_rate=1e-1)\n",
    "\n",
    "        f_train = theano.function(inputs=[sym_x, sym_y],\n",
    "                                  outputs=[LL_train, logpx_train, KL_train],\n",
    "                                  updates=updates)\n",
    "\n",
    "        f_eval = theano.function(inputs=[sym_x, sym_y],\n",
    "                                 outputs=[LL_eval, logpx_eval, KL_eval])\n",
    "\n",
    "        f_z = theano.function(inputs=[sym_x],\n",
    "                              outputs=[z_eval])\n",
    "\n",
    "        f_sample = theano.function(inputs=[sym_z],\n",
    "                                   outputs=[prob_sample])\n",
    "\n",
    "        f_recon = theano.function(inputs=[sym_x],\n",
    "                                  outputs=[prob_eval])\n",
    "\n",
    "        return f_train, f_eval, f_z, f_sample, f_recon\n",
    "\n",
    "    @staticmethod\n",
    "    def LogLikelihood(mux, x, muq, logvarq):\n",
    "        log_px_given_z = VAEHelper.log_bernoulli(x, mux, eps=1e-6).sum(axis=1).mean() #note that we sum the latent dimension and mean over the samples\n",
    "        KL_qp = VAEHelper.kl_normal2_stdnormal(muq, logvarq).sum(axis=1).mean() #* 0 # To ignore the KL term\n",
    "        LL = log_px_given_z - KL_qp\n",
    "        return LL, log_px_given_z, KL_qp\n",
    "    \n",
    "    @staticmethod\n",
    "    def log_bernoulli(x, p, eps=0.0):\n",
    "        p = T.clip(p, eps, 1.0 - eps)\n",
    "        return -T.nnet.binary_crossentropy(p, x)\n",
    "    \n",
    "    @staticmethod\n",
    "    def kl_normal2_stdnormal(mean, log_var):\n",
    "        return -0.5*(1 + log_var - mean**2 - T.exp(log_var))"
   ]
  },
  {
   "cell_type": "code",
   "execution_count": 22,
   "metadata": {
    "collapsed": false
   },
   "outputs": [],
   "source": [
    "# Create network\n",
    "net = create_network()"
   ]
  },
  {
   "cell_type": "code",
   "execution_count": 23,
   "metadata": {
    "collapsed": false
   },
   "outputs": [],
   "source": [
    "f_train, f_eval, f_z, f_sample, f_recon = VAEHelper.create_theano_functions(net)"
   ]
  },
  {
   "cell_type": "code",
   "execution_count": 24,
   "metadata": {
    "collapsed": false
   },
   "outputs": [
    {
     "data": {
      "image/png": "[encoded data removed]",
      "text/plain": [
       "<matplotlib.figure.Figure at 0x7fc0fbd9c9d0>"
      ]
     },
     "metadata": {},
     "output_type": "display_data"
    }
   ],
   "source": [
    "batch_size = 10\n",
    "samples_to_process = 1e4\n",
    "val_interval = 100\n",
    "\n",
    "LL_train, KL_train, logpx_train = [],[],[]\n",
    "LL_valid, KL_valid, logpx_valid = [],[],[]\n",
    "samples_processed = 0\n",
    "# plt.figure(figsize=(12, 24))\n",
    "plt.figure()\n",
    "valid_samples_processed = []\n",
    "\n",
    "x_recons = []\n",
    "y_valid_batches = []\n",
    "\n",
    "try:\n",
    "    while samples_processed < samples_to_process:\n",
    "        _LL_train, _KL_train, _logpx_train = [],[],[]\n",
    "        idxs = np.random.choice(range(x_train.shape[0]), size=(batch_size), replace=False)  \n",
    "        x_batch = x_train[idxs]\n",
    "        y_batch = targets_train[idxs]\n",
    "        out = f_train(x_batch, y_batch)\n",
    "        samples_processed += batch_size\n",
    "           \n",
    "        if samples_processed % val_interval == 0:\n",
    "            valid_samples_processed += [samples_processed]\n",
    "            #out = f_eval(x_train, y_batch) # this is causing OOM errors, we need to use x_batch instead and average\n",
    "            LL_train += [out[0]] \n",
    "            logpx_train += [out[1]]\n",
    "            KL_train += [out[2]]\n",
    "            \n",
    "            idxs_eval = np.random.choice(range(x_valid.shape[0]), size=(batch_size), replace=False) \n",
    "            x_valid_batch = x_valid[idxs_eval]\n",
    "            y_valid_batch = targets_valid[idxs_eval]\n",
    "            y_valid_batches.append(y_valid_batch)\n",
    "            \n",
    "            out = f_eval(x_valid_batch, y_valid_batch)\n",
    "            LL_valid += [out[0]]\n",
    "            logpx_valid += [out[1]]\n",
    "            KL_valid += [out[2]]\n",
    "            \n",
    "            z_eval = f_z(x_valid_batch)[0]\n",
    "            x_sample = f_sample(np.random.normal(size=(batch_size, NUM_LATENT_Z)).astype('float32'))[0]\n",
    "            x_recon = f_recon(x_valid_batch)[0]\n",
    "            x_recons.append(x_recon)\n",
    "            \n",
    "#             plt.subplot(NUM_CLASSES+2,2,1)\n",
    "            plt.legend(['LL', 'log(p(x))'], loc=2)\n",
    "            plt.xlabel('Updates')\n",
    "            plt.plot(valid_samples_processed, LL_train, color=\"black\")\n",
    "            plt.plot(valid_samples_processed, logpx_train, color=\"red\")\n",
    "            plt.plot(valid_samples_processed, LL_valid, color=\"black\", linestyle=\"--\")\n",
    "            plt.plot(valid_samples_processed, logpx_valid, color=\"red\", linestyle=\"--\")\n",
    "            plt.ticklabel_format(style='sci', axis='x', scilimits=(0,0))\n",
    "            plt.grid('on')\n",
    "            \n",
    "            plt.savefig(\"out52.png\")\n",
    "            display(Image(filename=\"out52.png\"))\n",
    "            clear_output(wait=True)\n",
    "\n",
    "except KeyboardInterrupt:\n",
    "    pass"
   ]
  },
  {
   "cell_type": "code",
   "execution_count": 25,
   "metadata": {
    "collapsed": false
   },
   "outputs": [
    {
     "name": "stdout",
     "output_type": "stream",
     "text": [
      "(15, 10, 4)\n",
      "(15, 10, 4)\n"
     ]
    }
   ],
   "source": [
    "x_recons_np = np.asarray(x_recons)\n",
    "print x_recons_np.shape\n",
    "\n",
    "y_valid_batches_np = np.asarray(y_valid_batches)\n",
    "print y_valid_batches_np.shape"
   ]
  },
  {
   "cell_type": "code",
   "execution_count": 26,
   "metadata": {
    "collapsed": false,
    "scrolled": true
   },
   "outputs": [
    {
     "name": "stdout",
     "output_type": "stream",
     "text": [
      "(150, 4)\n",
      "(150, 4)\n",
      "[0 3 0 0 3 3 0 0 3 2 1 0 0 1 0 2 1 0 1 2 2 2 2 3 2 3 0 0 2 0 0 3 3 2 1 1 3\n",
      " 2 3 2 0 2 2 0 0 2 2 0 1 0 1 2 0 0 1 2 0 0 2 2 2 2 2 2 2 0 2 2 2 0 0 2 2 0\n",
      " 0 2 0 1 0 0 2 0 0 2 2 0 0 0 0 2 2 2 2 2 2 2 1 2 2 2 2 1 2 2 2 0 1 2 2 2 2\n",
      " 2 1 2 2 2 1 2 2 2 0 1 2 2 1 2 2 1 2 2 0 0 1 1 2 2 2 0 0 0 0 0 2 1 2 2 2 0\n",
      " 1 0]\n"
     ]
    }
   ],
   "source": [
    "x_recons_cc = np.concatenate(x_recons_np, 0)\n",
    "y_valid_batches_cc = np.concatenate(y_valid_batches_np, 0)\n",
    "print x_recons_cc.shape\n",
    "print y_valid_batches_cc.shape\n",
    "\n",
    "res = np.argmax(x_recons_cc, axis=1)\n",
    "print res"
   ]
  },
  {
   "cell_type": "code",
   "execution_count": 27,
   "metadata": {
    "collapsed": false
   },
   "outputs": [
    {
     "name": "stdout",
     "output_type": "stream",
     "text": [
      "[2 0 3 2 3 3 2 3 3 1 0 3 2 3 0 1 2 2 1 0 1 2 1 3 3 3 3 1 2 2 2 3 1 0 2 0 3\n",
      " 2 3 1 3 3 3 1 1 1 3 0 0 3 2 1 1 1 2 3 1 0 2 0 2 1 3 2 1 2 3 1 1 0 0 3 1 0\n",
      " 0 0 2 1 3 3 3 0 1 1 1 2 1 0 1 1 1 1 3 2 0 0 1 1 2 1 1 1 0 2 0 0 2 2 0 1 0\n",
      " 0 2 1 1 3 3 0 2 1 3 1 3 0 1 3 1 0 3 2 1 3 1 3 0 1 1 0 2 3 1 2 1 3 0 1 2 2\n",
      " 0 0]\n"
     ]
    }
   ],
   "source": [
    "val = np.argmax(y_valid_batches_cc, axis=1)\n",
    "print val"
   ]
  },
  {
   "cell_type": "code",
   "execution_count": 28,
   "metadata": {
    "collapsed": false
   },
   "outputs": [
    {
     "name": "stdout",
     "output_type": "stream",
     "text": [
      "(array([  4,   5,   8,  14,  18,  21,  23,  25,  28,  31,  36,  37,  38,\n",
      "        47,  57,  58,  60,  63,  69,  70,  73,  74,  77,  81,  87,  93,\n",
      "        96,  98, 101, 103, 105, 107, 118, 121, 124, 129, 132, 137, 146, 149]),)\n"
     ]
    }
   ],
   "source": [
    "print np.where(res==val)"
   ]
  },
  {
   "cell_type": "code",
   "execution_count": 33,
   "metadata": {
    "collapsed": false
   },
   "outputs": [
    {
     "name": "stdout",
     "output_type": "stream",
     "text": [
      "0.266666666667\n"
     ]
    }
   ],
   "source": [
    "print len(np.where(res==val)[0]) / (float) (len(y_valid_batches_cc))"
   ]
  },
  {
   "cell_type": "code",
   "execution_count": null,
   "metadata": {
    "collapsed": true
   },
   "outputs": [],
   "source": []
  }
 ],
 "metadata": {
  "anaconda-cloud": {},
  "kernelspec": {
   "display_name": "Python [default]",
   "language": "python",
   "name": "python2"
  },
  "language_info": {
   "codemirror_mode": {
    "name": "ipython",
    "version": 2
   },
   "file_extension": ".py",
   "mimetype": "text/x-python",
   "name": "python",
   "nbconvert_exporter": "python",
   "pygments_lexer": "ipython2",
   "version": "2.7.12"
  }
 },
 "nbformat": 4,
 "nbformat_minor": 1
}
